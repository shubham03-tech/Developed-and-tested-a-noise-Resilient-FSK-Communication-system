{
 "cells": [
  {
   "cell_type": "code",
   "execution_count": 2,
   "metadata": {},
   "outputs": [
    {
     "name": "stdout",
     "output_type": "stream",
     "text": [
      "Collecting zmq\n",
      "  Downloading zmq-0.0.0.zip (2.2 kB)\n",
      "  Preparing metadata (setup.py): started\n",
      "  Preparing metadata (setup.py): finished with status 'done'\n",
      "Requirement already satisfied: pyzmq in c:\\users\\shubh\\appdata\\roaming\\python\\python311\\site-packages (from zmq) (25.1.2)\n",
      "Building wheels for collected packages: zmq\n",
      "  Building wheel for zmq (setup.py): started\n",
      "  Building wheel for zmq (setup.py): finished with status 'done'\n",
      "  Created wheel for zmq: filename=zmq-0.0.0-py3-none-any.whl size=1271 sha256=0300d9250c95abde58df0fbf1d099d60c8f37f44dc2872a9474a766114db8df4\n",
      "  Stored in directory: c:\\users\\shubh\\appdata\\local\\pip\\cache\\wheels\\16\\9e\\c7\\d497825227491fa00cca08b88ae37f9bcc14809233db76342c\n",
      "Successfully built zmq\n",
      "Installing collected packages: zmq\n",
      "Successfully installed zmq-0.0.0\n",
      "Note: you may need to restart the kernel to use updated packages.\n"
     ]
    },
    {
     "name": "stderr",
     "output_type": "stream",
     "text": [
      "\n",
      "[notice] A new release of pip is available: 23.2.1 -> 24.0\n",
      "[notice] To update, run: python.exe -m pip install --upgrade pip\n"
     ]
    }
   ],
   "source": [
    "pip install zmq"
   ]
  },
  {
   "cell_type": "code",
   "execution_count": null,
   "metadata": {},
   "outputs": [],
   "source": []
  }
 ],
 "metadata": {
  "kernelspec": {
   "display_name": "Python 3",
   "language": "python",
   "name": "python3"
  },
  "language_info": {
   "codemirror_mode": {
    "name": "ipython",
    "version": 3
   },
   "file_extension": ".py",
   "mimetype": "text/x-python",
   "name": "python",
   "nbconvert_exporter": "python",
   "pygments_lexer": "ipython3",
   "version": "3.11.5"
  }
 },
 "nbformat": 4,
 "nbformat_minor": 2
}
